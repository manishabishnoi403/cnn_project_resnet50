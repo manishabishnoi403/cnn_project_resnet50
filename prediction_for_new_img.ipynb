{
 "cells": [
  {
   "cell_type": "code",
   "execution_count": null,
   "id": "712bed81-b601-4ba5-ae47-f78c87488073",
   "metadata": {},
   "outputs": [],
   "source": [
    "from google.colab import files\n",
    "uploaded = files.upload()"
   ]
  },
  {
   "cell_type": "code",
   "execution_count": null,
   "id": "4ae7fdcd-2ef9-438e-ab73-8d618613ec83",
   "metadata": {},
   "outputs": [],
   "source": [
    "import tensorflow as tf\n",
    "import numpy as np\n",
    "from tensorflow.keras.applications.resnet50 import preprocess_input\n",
    "from tensorflow.keras.preprocessing import image\n",
    "import matplotlib.pyplot as plt\n",
    "\n",
    "class_names = [\n",
    "    \"airplane\", \"automobile\", \"bird\", \"cat\", \"deer\",\n",
    "    \"dog\", \"frog\", \"horse\", \"ship\", \"truck\"\n",
    "]\n",
    "\n",
    "def predict_image(img_path, model):\n",
    "\n",
    "    img_display = image.load_img(img_path, target_size=(128, 128))\n",
    "    plt.imshow(img_display)\n",
    "    plt.axis(\"off\")\n",
    "    plt.show()\n",
    "\n",
    "    img_array = image.img_to_array(img_display)\n",
    "    img_array = np.expand_dims(img_array, axis=0)  \n",
    "    img_array = preprocess_input(img_array)\n",
    "\n",
    "    preds = model.predict(img_array)\n",
    "    class_index = np.argmax(preds, axis=1)[0]\n",
    "    confidence = np.max(preds)\n",
    "\n",
    "    print(f\"Predicted Class: {class_names[class_index]} ({confidence*100:.2f}% confidence)\")\n",
    "\n",
    "img_path = \"img.jpg\"\n",
    "predict_image(img_path, model)"
   ]
  }
 ],
 "metadata": {
  "kernelspec": {
   "display_name": "Python 3 (ipykernel)",
   "language": "python",
   "name": "python3"
  },
  "language_info": {
   "codemirror_mode": {
    "name": "ipython",
    "version": 3
   },
   "file_extension": ".py",
   "mimetype": "text/x-python",
   "name": "python",
   "nbconvert_exporter": "python",
   "pygments_lexer": "ipython3",
   "version": "3.10.0"
  }
 },
 "nbformat": 4,
 "nbformat_minor": 5
}
